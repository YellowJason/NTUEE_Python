{
 "cells": [
  {
   "cell_type": "code",
   "execution_count": 1,
   "metadata": {},
   "outputs": [
    {
     "name": "stdout",
     "output_type": "stream",
     "text": [
      "pygame 1.9.6\n",
      "Hello from the pygame community. https://www.pygame.org/contribute.html\n"
     ]
    }
   ],
   "source": [
    "import pygame as pg\n",
    "import random\n",
    "#初始化\n",
    "pg.init()\n",
    "#建立視窗\n",
    "width,height = 450,700\n",
    "screen = pg.display.set_mode((width, height))\n",
    "pg.display.set_caption(\"下樓梯\")        \n",
    "#建立畫面\n",
    "bg = pg.Surface(screen.get_size())\n",
    "bg = bg.convert()\n",
    "bg.fill((200,200,0))\n",
    "#顯示\n",
    "screen.blit(bg, (0,0))\n",
    "pg.display.update()\n",
    "#建立時間元件\n",
    "clock = pg.time.Clock()\n",
    "\n",
    "speed = 2#樓梯運動速度\n",
    "boxs = []#樓梯\n",
    "T = 0#時間\n",
    "\n",
    "#程式運行\n",
    "running = True\n",
    "while running:\n",
    "    clock.tick(100)\n",
    "    T += 1\n",
    "    speed += 0.0005\n",
    "    period = 50\n",
    "    \n",
    "    for event in pg.event.get():\n",
    "        if event.type == pg.QUIT:\n",
    "            running = False\n",
    "            \n",
    "    if T % period == 0:#新增樓梯\n",
    "        x_rand = random.randint(-50,350)\n",
    "        boxs.append([int(x_rand),680])\n",
    "    \n",
    "    screen.blit(bg,(0,0))#重繪視窗\n",
    "    \n",
    "    for i in boxs:#每個樓梯做一次\n",
    "        i[1] -= speed\n",
    "        if i[1] < 0:\n",
    "            boxs.remove(i)\n",
    "        box = pg.Surface((150,20))#建立繪圖區\n",
    "        box.fill((255,255,255))\n",
    "        pg.draw.rect(box,(100,100,100),[0,0,150,20],30)#畫樓梯\n",
    "        rect = box.get_rect()#樓梯區塊\n",
    "        rect.center = (i[0],i[1])#左上角起始位置\n",
    "        screen.blit(box, rect.center)\n",
    "    \n",
    "    pg.display.update()#更新視窗\n",
    " \n",
    "pg.quit()"
   ]
  },
  {
   "cell_type": "code",
   "execution_count": null,
   "metadata": {},
   "outputs": [],
   "source": []
  },
  {
   "cell_type": "code",
   "execution_count": null,
   "metadata": {},
   "outputs": [],
   "source": []
  }
 ],
 "metadata": {
  "kernelspec": {
   "display_name": "Python 3",
   "language": "python",
   "name": "python3"
  },
  "language_info": {
   "codemirror_mode": {
    "name": "ipython",
    "version": 3
   },
   "file_extension": ".py",
   "mimetype": "text/x-python",
   "name": "python",
   "nbconvert_exporter": "python",
   "pygments_lexer": "ipython3",
   "version": "3.7.3"
  }
 },
 "nbformat": 4,
 "nbformat_minor": 2
}
