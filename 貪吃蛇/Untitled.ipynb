{
 "cells": [
  {
   "cell_type": "code",
   "execution_count": 3,
   "metadata": {},
   "outputs": [],
   "source": [
    "import pygame as pg\n",
    "\n",
    "pg.init()\n",
    "#建立視窗\n",
    "width,height = 600,600\n",
    "screen = pg.display.set_mode((width, height))\n",
    "pg.display.set_caption(\"下樓梯\")        \n",
    "#建立畫面\n",
    "bg = pg.Surface(screen.get_size())\n",
    "bg = bg.convert()\n",
    "bg.fill((255,255,255))\n",
    "\n",
    "screen.blit(bg, (0,0))\n",
    "pg.display.update()\n",
    "\n",
    "class body:\n",
    "    def __init__(self):\n",
    "        self.x = 300\n",
    "        self.y = 300\n",
    "        self.width = 30\n",
    "        self.body = pg.Surface((self.width,self.width))#建立繪圖區\n",
    "        self.body.fill((255,255,255))\n",
    "        self.picture = pg.image,load('柴柴.png')\n",
    "        self.picture.convert()\n",
    "\n",
    "    def draw(self):\n",
    "        screen.blit(self.body,(self.x,self.y))\n",
    "        self.body.blit(self.picture,(0,0))\n",
    "\n",
    "    def update(self):\n",
    "        keys = pg.key.get_pressed()#按鍵dict\n",
    "            #確認是否按方向鍵\n",
    "            if keys[pg.K_LEFT] and keys[pg.K_RIGHT]:\n",
    "                pass\n",
    "            elif keys[pg.K_LEFT]:\n",
    "                self.x -= speed\n",
    "            elif keys[pg.K_RIGHT]:\n",
    "                self.x += speed\n",
    "            elif keys[pg.K_DOWN]:\n",
    "                self.y += speed\n",
    "            elif keys[pg.K_UP]:\n",
    "                self.y -= speed\n",
    "            #確認是否跑出邊界\n",
    "            if self.x <= -30:\n",
    "                self.x = 570\n",
    "            elif self.x >= 600:\n",
    "                self.x = 0\n",
    "            if self.y <= -30:\n",
    "                self.y = 570\n",
    "            elif self.y >= 600:\n",
    "                self.y = 0\n",
    "            \n",
    "running = True\n",
    "while running:\n",
    "    for event in pg.event.get():\n",
    "        if event.type == pg.QUIT:\n",
    "            running = False\n",
    "pg.quit() "
   ]
  },
  {
   "cell_type": "code",
   "execution_count": null,
   "metadata": {},
   "outputs": [],
   "source": []
  }
 ],
 "metadata": {
  "kernelspec": {
   "display_name": "Python 3",
   "language": "python",
   "name": "python3"
  },
  "language_info": {
   "codemirror_mode": {
    "name": "ipython",
    "version": 3
   },
   "file_extension": ".py",
   "mimetype": "text/x-python",
   "name": "python",
   "nbconvert_exporter": "python",
   "pygments_lexer": "ipython3",
   "version": "3.7.3"
  }
 },
 "nbformat": 4,
 "nbformat_minor": 2
}
